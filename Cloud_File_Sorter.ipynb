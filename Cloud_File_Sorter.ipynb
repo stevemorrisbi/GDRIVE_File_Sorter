{
  "nbformat": 4,
  "nbformat_minor": 0,
  "metadata": {
    "colab": {
      "provenance": [],
      "authorship_tag": "ABX9TyMseVVZhIAXA67dVaMh1Wxb",
      "include_colab_link": true
    },
    "kernelspec": {
      "name": "python3",
      "display_name": "Python 3"
    },
    "language_info": {
      "name": "python"
    }
  },
  "cells": [
    {
      "cell_type": "markdown",
      "metadata": {
        "id": "view-in-github",
        "colab_type": "text"
      },
      "source": [
        "<a href=\"https://colab.research.google.com/github/stevemorrisbi/GDRIVE_File_Sorter/blob/main/Cloud_File_Sorter.ipynb\" target=\"_parent\"><img src=\"https://colab.research.google.com/assets/colab-badge.svg\" alt=\"Open In Colab\"/></a>"
      ]
    },
    {
      "cell_type": "code",
      "source": [
        "# accessing my Google Drive account through my email\n",
        "from google.colab import drive\n",
        "drive.mount('/content/drive')\n"
      ],
      "metadata": {
        "colab": {
          "base_uri": "https://localhost:8080/"
        },
        "id": "tp5udu2GnkEF",
        "outputId": "3a14d5a9-5f8c-4cac-a7b4-77792b5f41a2"
      },
      "execution_count": 24,
      "outputs": [
        {
          "output_type": "stream",
          "name": "stdout",
          "text": [
            "Mounted at /content/drive\n"
          ]
        }
      ]
    },
    {
      "cell_type": "code",
      "source": [
        "import os\n",
        "\n",
        "drive_path = '/content/drive/My Drive'  # The root of your Google Drive\n",
        "\n",
        "# List all files and directories in the root of your Google Drive\n",
        "contents = os.listdir(drive_path)\n",
        "\n",
        "# looping through to see what files are in the drive path\n",
        "for item in contents:\n",
        "    print(item)\n"
      ],
      "metadata": {
        "colab": {
          "base_uri": "https://localhost:8080/"
        },
        "id": "7BgD7bHwn6VO",
        "outputId": "f01da440-5d39-4950-88f5-38afd847f5a9"
      },
      "execution_count": 25,
      "outputs": [
        {
          "output_type": "stream",
          "name": "stdout",
          "text": [
            "WhatsApp Chat with Steph Old (1).txt\n",
            "WhatsApp Chat with Steph Old.txt\n",
            "20180319_144559.jpg\n",
            "Learning Log Template: Think about data in daily life.gdoc\n",
            "Learning Log Template: Consider how data analysts approach tasks.gdoc\n",
            "Learning Log Template: Explore data from your daily life.gdoc\n",
            "Learning Log Template: Reflect on your skills and expectations.gdoc\n",
            "Course 1 Week 4 Glossary | DA terms and definitions.gdoc\n",
            "Learning Log Template: Reflect on the data analysis process.gdoc\n",
            "Learning Log Template: Consider what data means to you.gdoc\n",
            "CustomerSurvey (1).gsheet\n",
            "HistoricalSales.gsheet\n",
            "CustomerSurvey.gsheet\n",
            "June 2014 Invoices.gsheet\n",
            "Kitty Survey Feedback.gsheet\n",
            "Sample Transaction Table.gsheet\n",
            "Movie Data Starter Project.gsheet\n",
            "Dynamic Dataset.gsheet\n",
            "Population, Latin and Caribbean Countries, 2010-2019.gsheet\n",
            "Fitness notes_210630_223242.pdf\n",
            "Dashboard project_220622_193120.pdf\n",
            "Notes_220629_161522.pdf\n",
            "Notes_220704_144535.pdf\n",
            "Luck book_220314_230312.pdf\n",
            "Notes_210718_195327.pdf\n",
            "Search today_211010_125550.pdf\n",
            "Linkedin plan _220408_174617.pdf\n",
            "Linkedin plan _220408_174617.gdoc\n",
            "Dashboard project_220622_193120.gdoc\n",
            "Notes_220629_161522.gdoc\n",
            "Notes_210718_195327.gdoc\n",
            "Luck book_220314_230312.gdoc\n",
            "Fitness notes_210630_223242.gdoc\n",
            "Notes_220704_144535.gdoc\n",
            "Search today_211010_125550.gdoc\n",
            "Screenshot_220326_140922.pdf\n",
            "Notes_220320_194849.pdf\n",
            "Notes_220317_134659.pdf\n",
            "Last purchase screenshots_220326_143619.pdf\n",
            "Cover letter_220315_200458.pdf\n",
            "Big book of dashboards_220327_113007.pdf\n",
            "Remove visual headers_220407_163214.pdf\n",
            "Dax_220408_164229.pdf\n",
            "Vba notes kindle _220403_220547.pdf\n",
            "Ronit Malik search_220201_155402.pdf\n",
            "Power bi design_220326_155411.pdf\n",
            "Notes_220703_171812.pdf\n",
            "Notes_220408_194129.pdf\n",
            "Notes_220707_140512.pdf\n",
            "Book notes _220703_190823.pdf\n",
            "VBA notes_220131_191035.pdf\n",
            "Custom visuals _220408_204854.pdf\n",
            "Notes_220406_221238.pdf\n",
            "Cv ai_220327_184729.pdf\n",
            "Notes_220408_172709.pdf\n",
            "Today_220408_195511.pdf\n",
            "Stats_220719_170126.pdf\n",
            "Notes_211120_173616.pdf\n",
            "Notes_220324_074601.pdf\n",
            "Notes_220304_135712.pdf\n",
            "Sql_220410_140324.pdf\n",
            "Excel read up_220703_153756.pdf\n",
            "Dax _220408_211208.pdf\n",
            "Notes_220408_172709.gdoc\n",
            "Remove visual headers_220407_163214.gdoc\n",
            "Last purchase screenshots_220326_143619.gdoc\n",
            "Stats_220719_170126.gdoc\n",
            "Custom visuals _220408_204854.gdoc\n",
            "Cover letter_220315_200458.gdoc\n",
            "Notes_220707_140512.gdoc\n",
            "Book notes _220703_190823.gdoc\n",
            "Notes_220406_221238.gdoc\n",
            "Notes_211120_173616.gdoc\n",
            "Cv ai_220327_184729.gdoc\n",
            "Power bi design_220326_155411.gdoc\n",
            "Notes_220317_134659.gdoc\n",
            "Big book of dashboards_220327_113007.gdoc\n",
            "Notes_220324_074601.gdoc\n",
            "Today_220408_195511.gdoc\n",
            "Vba notes kindle _220403_220547.gdoc\n",
            "Notes_220703_171812.gdoc\n",
            "Notes_220320_194849.gdoc\n",
            "Notes_220304_135712.gdoc\n",
            "VBA notes_220131_191035.gdoc\n",
            "Dax_220408_164229.gdoc\n",
            "Sql_220410_140324.gdoc\n",
            "Notes_220408_194129.gdoc\n",
            "Screenshot_220326_140922.gdoc\n",
            "Ronit Malik search_220201_155402.gdoc\n",
            "Dax _220408_211208.gdoc\n",
            "Colab Notebooks\n",
            "AvisCI927615091.pdf\n",
            "AvisCI927615091.gdoc\n"
          ]
        }
      ]
    },
    {
      "cell_type": "code",
      "source": [
        "# Define the name of the new folder\n",
        "folder_name = 'StudyProjects'\n",
        "\n",
        "# Define the parent folder (if it's a subfolder, otherwise, set it to None)\n",
        "parent_folder_id = None  # Replace with the parent folder ID if it's a subfolder\n",
        "\n",
        "# Create the folder metadata\n",
        "folder_metadata = {\n",
        "    'name': folder_name,\n",
        "    'mimeType': 'application/vnd.google-apps.folder',\n",
        "    'parents': [parent_folder_id] if parent_folder_id else []\n",
        "}\n",
        "\n",
        "# Create the folder\n",
        "folder = drive_service.files().create(\n",
        "    body=folder_metadata,\n",
        "    fields='id'\n",
        ").execute()\n",
        "\n",
        "# pritning the id of the nearly created Study Projects folder on Drive\n",
        "print('Folder ID:', folder.get('id'))"
      ],
      "metadata": {
        "colab": {
          "base_uri": "https://localhost:8080/"
        },
        "id": "cIHzVMRPvk-k",
        "outputId": "fcc042f6-a738-4d81-bd49-77685c7b98c0"
      },
      "execution_count": 41,
      "outputs": [
        {
          "output_type": "stream",
          "name": "stdout",
          "text": [
            "Folder ID: 1gfxHmKv19HMavJfzg80sFPfTwX7v--JO\n"
          ]
        }
      ]
    },
    {
      "cell_type": "code",
      "source": [
        "#API authetication should be part of importing drive but statement below is there if I need it.\n",
        "#from google.colab import auth\n",
        "#auth.authenticate_user()\n",
        "\n",
        "\n",
        "from googleapiclient.discovery import build\n",
        "import os\n",
        "\n",
        "drive_service = build('drive', 'v3')\n",
        "\n",
        "source_folder_id = '1PIb7gdz5dsMh2oBqCHCRcq-mM3HCYmib'  # from the address bar in the browser\n",
        "keyword_to_search = 'Study' # using so any files I mark as 'Study' I can back up to another folder later\n",
        "destination_folder_id = '1gfxHmKv19HMavJfzg80sFPfTwX7v--JO'  # Replace with the destination folder ID\n",
        "\n",
        "\n"
      ],
      "metadata": {
        "id": "UMiwgu_LrTGk"
      },
      "execution_count": 42,
      "outputs": []
    },
    {
      "cell_type": "code",
      "source": [
        "# Getting Google Drive to search for 'Study' and retrieve the file/files id and name.\n",
        "query = f\"'{source_folder_id}' in parents and name contains '{keyword_to_search}'\"\n",
        "results = drive_service.files().list(q=query, fields=\"files(id, name)\").execute()\n",
        "files = results.get('files', [])\n"
      ],
      "metadata": {
        "id": "FPd6tmkYs_FS"
      },
      "execution_count": 43,
      "outputs": []
    },
    {
      "cell_type": "code",
      "source": [
        "# looping through the files list to store all ids and names in the file_id and file_name variables\n",
        "for file in files:\n",
        "    file_id = file['id']\n",
        "    file_name = file['name']\n",
        "\n",
        "    # Create a file metadata with the destination folder ID\n",
        "    file_metadata = {'parents': [destination_folder_id]}\n",
        "\n",
        "    # Copy the file to the destination folder\n",
        "    drive_service.files().copy(fileId=file_id, body=file_metadata).execute()\n",
        "\n",
        "    print(f\"Copied {file_name} to the destination folder.\")\n"
      ],
      "metadata": {
        "colab": {
          "base_uri": "https://localhost:8080/"
        },
        "id": "bsHnA9GUxQIv",
        "outputId": "94444249-62dc-4b12-9544-979c66f60d1c"
      },
      "execution_count": 44,
      "outputs": [
        {
          "output_type": "stream",
          "name": "stdout",
          "text": [
            "Copied Study_Time.ipynb to the destination folder.\n"
          ]
        }
      ]
    }
  ]
}